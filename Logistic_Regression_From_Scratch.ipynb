{
  "nbformat": 4,
  "nbformat_minor": 0,
  "metadata": {
    "colab": {
      "provenance": []
    },
    "kernelspec": {
      "name": "python3",
      "display_name": "Python 3"
    },
    "language_info": {
      "name": "python"
    }
  },
  "cells": [
    {
      "cell_type": "markdown",
      "metadata": {
        "id": "f5BLpBB_cv8y"
      },
      "source": [
        "**Logistic Regression:**"
      ]
    },
    {
      "cell_type": "markdown",
      "source": [
        "**Introduction on Logistic Regression**\n",
        "\n",
        "\n",
        "\n",
        "---\n",
        "\n",
        "\n",
        "If you are here, you are already introduced to the concept of logistic regression and probably have had your hands dirty working on different datasets. The scikitlearn’s LogisticRegression is by far the best tool to use for any logistic regression task, but it is a good exercise to fiddle around and write your logistic regression algorithm and see how your algorithm fares. It always helps a great deal to write algorithms from scratch, provides you with details that you otherwise have missed, It consolidates your knowledge regarding the topic. It will be helpful if you have a prior understanding of matrix algebra and Numpy. In this article, we will only be dealing with  Numpy arrays. Well, let’s get started,\n"
      ],
      "metadata": {
        "id": "npPIPq_29vRn"
      }
    },
    {
      "cell_type": "markdown",
      "source": [
        "***For this article, we will be using sklearn’s make_classification dataset with four features***"
      ],
      "metadata": {
        "id": "s0GUcTfr9JUh"
      }
    },
    {
      "cell_type": "markdown",
      "metadata": {
        "id": "W0dxwE-Ubsdf"
      },
      "source": [
        "Y_hat --> predicted value\n",
        "\n",
        "X --> Input Variable\n",
        "\n",
        "w --> weight\n",
        "\n",
        "b --> bias"
      ]
    },
    {
      "cell_type": "markdown",
      "source": [],
      "metadata": {
        "id": "s6nDWYpc9LOO"
      }
    },
    {
      "cell_type": "markdown",
      "metadata": {
        "id": "WSAfYP7WmECB"
      },
      "source": [
        "**Learning Rate:**\n",
        "\n",
        "Learning rate is a tuning parameter in an optimization algorithm that determines the step size at each iteration while moving toward a minimum of a loss function."
      ]
    },
    {
      "cell_type": "markdown",
      "source": [
        "db=1/m(y_hay-y)*x\n",
        "\n",
        "---\n",
        "\n",
        "\n",
        "dw=1/m(y_hay-y)"
      ],
      "metadata": {
        "id": "YkvrP_Cq9OMh"
      }
    },
    {
      "cell_type": "markdown",
      "metadata": {
        "id": "X8OJXGuPvDt2"
      },
      "source": [
        "**Gradient Descent:**\n",
        "\n",
        "Gradient Descent is an optimization algorithm used for minimizing the loss function in various machine learning algorithms. It is used for updating the parameters of the learning model.\n",
        "\n",
        "w  =  w - α*dw\n",
        "\n",
        "b  =  b - α*db"
      ]
    },
    {
      "cell_type": "code",
      "execution_count": 38,
      "metadata": {
        "id": "jAiQWltlTL6X"
      },
      "outputs": [],
      "source": [
        "import numpy as np\n",
        "import pandas as pd\n",
        "from sklearn.datasets import make_classification"
      ]
    },
    {
      "cell_type": "code",
      "source": [
        "X,y=make_classification(n_features=4,n_classes=2)"
      ],
      "metadata": {
        "id": "LtxNEZEWThhm"
      },
      "execution_count": 39,
      "outputs": []
    },
    {
      "cell_type": "code",
      "source": [
        "from sklearn.model_selection import train_test_split\n",
        "X_train,X_test,y_train,y_test=train_test_split(X,y)"
      ],
      "metadata": {
        "id": "C24OC5SKT15K"
      },
      "execution_count": 40,
      "outputs": []
    },
    {
      "cell_type": "code",
      "source": [
        "X.shape"
      ],
      "metadata": {
        "colab": {
          "base_uri": "https://localhost:8080/"
        },
        "id": "EbWJwosBc03T",
        "outputId": "dfc18f8f-685f-4e45-9115-0b51ca2a6518"
      },
      "execution_count": 41,
      "outputs": [
        {
          "output_type": "execute_result",
          "data": {
            "text/plain": [
              "(100, 4)"
            ]
          },
          "metadata": {},
          "execution_count": 41
        }
      ]
    },
    {
      "cell_type": "code",
      "source": [
        "p=np.ones((np.shape(X)[0],1))\n",
        "p.shape"
      ],
      "metadata": {
        "colab": {
          "base_uri": "https://localhost:8080/"
        },
        "id": "10hHnyK9cy04",
        "outputId": "2cf1d5c6-9fb7-4007-e9d5-ce483b8daa62"
      },
      "execution_count": 42,
      "outputs": [
        {
          "output_type": "execute_result",
          "data": {
            "text/plain": [
              "(100, 1)"
            ]
          },
          "metadata": {},
          "execution_count": 42
        }
      ]
    },
    {
      "cell_type": "markdown",
      "source": [
        "# Standardization of Data\n",
        "only independent freature uthane haii\n",
        "ek sath ek pura columns lena hai us column ko replace karna hai\n",
        "= x-mean/standard_dev\n",
        "loop chala ek no of times=no. of features\n",
        "ek loopstamp mai ek complete column lele\n",
        "\n",
        "\n",
        "\n"
      ],
      "metadata": {
        "id": "WOguXnZ0XAmj"
      }
    },
    {
      "cell_type": "code",
      "source": [
        "def standard_data(X_train):\n",
        "  for i in range(X_train.shape[1]):\n",
        "    X_train[:,i]=((X_train[:,i]-np.mean(X_train[:,i]))/np.std(X_train[:,i]))"
      ],
      "metadata": {
        "id": "ha8zFg2jT250"
      },
      "execution_count": 43,
      "outputs": []
    },
    {
      "cell_type": "markdown",
      "source": [
        "Class Logistic_Regression"
      ],
      "metadata": {
        "id": "gfcvArR1UVd8"
      }
    },
    {
      "cell_type": "code",
      "source": [
        "class Logistic_Regression():\n",
        "  #Constructor initialize value of learning rate and num of iteration\n",
        "  def __init__(self,learning_rate,iterations):\n",
        "    self.learning_rate=learning_rate\n",
        "    self.iterations=iterations\n",
        "  # Fit function for train the model\n",
        "  def fit(self,X,y):\n",
        "    self.X=X\n",
        "    self.y=y\n",
        "\n",
        "    self.m,self.n=X.shape\n",
        "\n",
        "    #initialize weights \n",
        "    #here we do matrix calculation so we will make a weight matrix of no. of feature * 1\n",
        "    self.weight=np.zeros(self.n)\n",
        "    self.b=0\n",
        "\n",
        "   #run loop for gradient descent\n",
        "    for i in range(self.iterations):\n",
        "\n",
        "      self.update_weight()\n",
        "     #here i will update w and b\n",
        "     #w=w-alpha*dw\n",
        "  def update_weight(self):\n",
        "    y_hat=1/(1+np.exp(-(np.dot(self.X,self.weight)+self.b)))\n",
        "\n",
        "    dw=(1/self.m)*(np.dot(self.X.T,(y_hat-self.y)))\n",
        "    db=(1/self.m)*(np.sum(y_hat-self.y))\n",
        "\n",
        "    self.weight=self.weight-self.learning_rate*dw\n",
        "    self.b=self.b-self.learning_rate*db\n",
        "  \n",
        "  def predict(self,X):\n",
        "    y_pred=1/(1+np.exp(-(np.dot(X,self.weight)+self.b)))\n",
        "    y_pred=np.where(y_pred>0.5,1,0)\n",
        "    return y_pred\n",
        "\n"
      ],
      "metadata": {
        "id": "3NMlsQXZUQfY"
      },
      "execution_count": 44,
      "outputs": []
    },
    {
      "cell_type": "code",
      "source": [
        "obj1 = Logistic_Regression(0.0001,1000)\n",
        "model= obj1.fit(X_train,y_train)"
      ],
      "metadata": {
        "id": "y07JKcaSZGAM"
      },
      "execution_count": 46,
      "outputs": []
    },
    {
      "cell_type": "code",
      "source": [
        "y_pred = obj1.predict(X_test)"
      ],
      "metadata": {
        "id": "ZqB5pcGW7t8T"
      },
      "execution_count": 47,
      "outputs": []
    },
    {
      "cell_type": "code",
      "source": [
        "def f1_score(y,y_hat):\n",
        "    tp,tn,fp,fn = 0,0,0,0\n",
        "    for i in range(len(y)):\n",
        "        if y[i] == 1 and y_hat[i] == 1:\n",
        "            tp += 1\n",
        "        elif y[i] == 1 and y_hat[i] == 0:\n",
        "            fn += 1\n",
        "        elif y[i] == 0 and y_hat[i] == 1:\n",
        "            fp += 1\n",
        "        elif y[i] == 0 and y_hat[i] == 0:\n",
        "            tn += 1\n",
        "    precision = tp/(tp+fp)\n",
        "    recall = tp/(tp+fn)\n",
        "    f1_score = 2*precision*recall/(precision+recall)\n",
        "    return f1_score,precision,recall"
      ],
      "metadata": {
        "id": "YkIK4bOj8MBk"
      },
      "execution_count": 53,
      "outputs": []
    },
    {
      "cell_type": "code",
      "source": [
        "y_pred"
      ],
      "metadata": {
        "colab": {
          "base_uri": "https://localhost:8080/"
        },
        "id": "Zh9utSvA76v5",
        "outputId": "31a8a097-1544-4dbe-9eeb-9aaf8fe601c1"
      },
      "execution_count": 48,
      "outputs": [
        {
          "output_type": "execute_result",
          "data": {
            "text/plain": [
              "array([0, 0, 0, 0, 0, 1, 1, 0, 0, 1, 0, 0, 0, 1, 0, 1, 0, 1, 1, 0, 0, 0,\n",
              "       1, 1, 0])"
            ]
          },
          "metadata": {},
          "execution_count": 48
        }
      ]
    },
    {
      "cell_type": "code",
      "source": [
        "f1_score(y_test,y_pred)"
      ],
      "metadata": {
        "colab": {
          "base_uri": "https://localhost:8080/"
        },
        "id": "oQMWTppQ78Mx",
        "outputId": "7ccab928-3ee0-4339-eeee-7fafec9de54f"
      },
      "execution_count": 54,
      "outputs": [
        {
          "output_type": "execute_result",
          "data": {
            "text/plain": [
              "(0.8421052631578948, 0.8888888888888888, 0.8)"
            ]
          },
          "metadata": {},
          "execution_count": 54
        }
      ]
    },
    {
      "cell_type": "code",
      "source": [],
      "metadata": {
        "id": "oFLGvnRV8W5K"
      },
      "execution_count": null,
      "outputs": []
    }
  ]
}